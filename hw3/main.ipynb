{
  "cells": [
    {
      "cell_type": "markdown",
      "metadata": {
        "id": "YmlJ7FFJGA3k"
      },
      "source": [
        "**<h1><center>CS 464</center></h1>**\n",
        "**<h1><center>Introduction to Machine Learning</center></h1>**\n",
        "**<h1><center>Spring 2022</center></h1>**\n",
        "**<h1><center>Homework 3</center></h1>**\n",
        "<h4><center>Due: DEC 23, 2022 23:59 (GMT+3)</center></h4>"
      ]
    },
    {
      "cell_type": "markdown",
      "metadata": {
        "id": "LxSgl3smH_qk"
      },
      "source": [
        "In this third homework assignment, you are asked to develop a system that can be used to supply additional information to weather forecasts. For this task, you are provided a dataset that consists of weather images that belong to four different weather conditions: [cloudy, rain, shiny, sunrise]. Your model will classify images considering these class labels. \n",
        "\n",
        "For this assignment, **using PyTorch is mandatory.**\n",
        "\n",
        "**Tip:** You may experience latencies in file I/O if you are using Google Colab. In this regard, we recommend you upload your data to Google Drive as a zip file and unzip the folder contents in your drive. If you would like to upload the data files separately, it may take significant time.\n",
        "\n",
        "You will submit a single ipynb file as the homework submission. If you want to provide further explanation about your work, you can add Markdown cells to do so. [Here](https://www.markdownguide.org/), you can find a guide for Markdown syntax. Upload your homework with the following filename convention: \\<BilkentID\\>\\_\\<Name\\>\\_\\<Surname\\>.ipynb\n",
        "\n",
        "**Contact:**\n",
        "- [Yusuf Dalva](mailto:yusuf.dalva@bilkent.edu.tr)\n",
        "- [Ahmet Burak Yıldırım](mailto:a.yildirim@bilkent.edu.tr)\n",
        "\n",
        "**Dataset**<br>\n",
        "You can find the dataset [here](https://www.kaggle.com/datasets/pratik2901/multiclass-weather-dataset). \n"
      ]
    },
    {
      "cell_type": "markdown",
      "metadata": {
        "id": "kUQigqxM4JlE"
      },
      "source": [
        "# **Q1** [12 points]\n",
        "This part consists of 4 questions which you are expected to answer. Please fill in the following cell in Markdown format. Each question is worth 2 points."
      ]
    },
    {
      "attachments": {},
      "cell_type": "markdown",
      "metadata": {
        "id": "3ZcbkhwkbQ4m"
      },
      "source": [
        "a) Do we need to output the actual probability values when performing classification with the softmax layer? If not, how do these numbers represent the likelihood of classes? Also, does the output values should be in a specific range for us to make a classification? <br>\n",
        "\n",
        "We do not. This is because, the class that corresponds to the neuron with the highest value is the model's prediction, which can be given with either one-hot encoding or with a class index. The output values must be in a specific range because they represent probabilities and must be normalized in the same way to be comparable.\n",
        "\n",
        "b) From the perspective of model complexity, how you can identify when a model underfits or overfits? Which plots are informative for detecting this behavior? <br>\n",
        "\n",
        "From a model complexity view, if a model has too many trainable parameters, it is more prone to overfitting. We can identify that a model overfits if it performs well on the training data, but badly on the test data. The iteration vs. error graph where curves for both the training and test data exist can show us if a model overfits. Here, if the test data accuracy starts decreasing while the training accuracy increases (if they grow apart), we can tell that the model is overfitting with each iteration.\n",
        "\n",
        "c) In neural networks, how does the ReLU function help us to generalize to conplex feature spaces? Why we are not using linear layers only? <br>\n",
        "\n",
        "When we think of how the samples would be represented on a graph, the usage of linear layers only would result with not being able to enclose the feature space and the model would be underfit. When we use ReLU, we are able to draw a cornered enclosure around the samples of a dataset that belong to a certain class. In conclusion, we can learn non-linear feature spaces with the ReLU function.\n",
        "\n",
        "d) Assume that you are going to pass the feature matrix with dimensions 64x64x5 (Height x Width x Channel size) through a convolutional layer. If our convolutional layer has a kernel size of 3x3 and the number of filters is 6, how many learnable parameters are present? <br>\n",
        "\n",
        "We have 5 * 3 * 3 * 6 (input channel size * kernel size * number of filters) = 270 learnable parameters. "
      ]
    },
    {
      "cell_type": "markdown",
      "metadata": {
        "id": "Qx_XrpE44TlW"
      },
      "source": [
        "# **Q2** [88 points]"
      ]
    },
    {
      "cell_type": "markdown",
      "metadata": {
        "id": "whvv0wjpDWC_"
      },
      "source": [
        "## Necessary Imports\n",
        "In the cell below, we import some utilities that you can make use of in this assignment. Note that you need to use PyTorch in this assignment. To report certain metrics (like precision, recall, accuracy) you may use utilities from *scikit-learn* library. You can edit these imports considering your implementation as long as you use PyTorch."
      ]
    },
    {
      "cell_type": "markdown",
      "metadata": {
        "id": "ByxehL1b4b2X"
      },
      "source": [
        "## Setup"
      ]
    },
    {
      "cell_type": "code",
      "execution_count": null,
      "metadata": {
        "id": "Jk_nY5kj70sX"
      },
      "outputs": [],
      "source": [
        "import os \n",
        "import time\n",
        "import random\n",
        "\n",
        "import numpy as np\n",
        "from PIL import Image\n",
        "import matplotlib.pyplot as plt\n",
        "\n",
        "import torch\n",
        "import torch.nn as nn\n",
        "import torch.nn.functional as F\n",
        "import torchvision.models as models\n",
        "from torch.utils.data import Dataset, DataLoader\n",
        "\n",
        "from sklearn.model_selection import train_test_split\n",
        "from sklearn.metrics import confusion_matrix, f1_score, precision_score, recall_score, accuracy_score\n",
        "\n",
        "# added\n",
        "from google.colab import drive\n",
        "from glob import glob\n",
        "from torchvision import transforms\n",
        "import seaborn as sns"
      ]
    },
    {
      "cell_type": "markdown",
      "metadata": {
        "id": "yAve2XUl9spy"
      },
      "source": [
        "You can test whether hardware acceleration with GPU is enabled in the cell below. In addition, if you have GPU access, you can check the amount of available GPU memory."
      ]
    },
    {
      "cell_type": "code",
      "execution_count": null,
      "metadata": {
        "colab": {
          "base_uri": "https://localhost:8080/"
        },
        "id": "0XJ4Hihx5q-2",
        "outputId": "97dc96bb-1e26-4189-9493-c56c14b9571c"
      },
      "outputs": [
        {
          "name": "stdout",
          "output_type": "stream",
          "text": [
            "Using device: cuda\n",
            "GPU Name: Tesla T4\n",
            "Memory Stats:\n",
            "  - Allocated: 1.9 GB\n",
            "  - Cached:    4.0 GB\n",
            "  - Total:     14.8 GB\n"
          ]
        }
      ],
      "source": [
        "# setting device as GPU if available, else CPU\n",
        "device = torch.device('cuda' if torch.cuda.is_available() else 'cpu')\n",
        "print('Using device:', device)\n",
        "\n",
        "# CUDA device information\n",
        "if device.type == 'cuda':\n",
        "    print('GPU Name:', torch.cuda.get_device_name(0))\n",
        "    print('Memory Stats:')\n",
        "    print('  - Allocated:', round(torch.cuda.memory_allocated(0)/1024**3,1), 'GB')\n",
        "    print('  - Cached:   ', round(torch.cuda.memory_reserved(0)/1024**3,1), 'GB')\n",
        "    print('  - Total:    ', round(torch.cuda.get_device_properties(0).total_memory/1024**3,1), 'GB')"
      ]
    },
    {
      "cell_type": "markdown",
      "metadata": {
        "id": "-wVIFjmb-CJI"
      },
      "source": [
        "**DO NOT CHANGE**<br>\n",
        "To evaluate your implementation fairly, we set seed values for random sampling methods in PyTorch, Numpy, and Python random library. These seeds are set to evaluate your models successfully, so do not change these values."
      ]
    },
    {
      "cell_type": "code",
      "execution_count": null,
      "metadata": {
        "id": "4NiPHoaY5q8G"
      },
      "outputs": [],
      "source": [
        "# for reproducable results\n",
        "torch.manual_seed(464)\n",
        "torch.cuda.manual_seed(464)\n",
        "np.random.seed(464)\n",
        "random.seed(464)\n",
        "if device.type == 'cuda':\n",
        "    torch.backends.cudnn.deterministic=True"
      ]
    },
    {
      "cell_type": "code",
      "execution_count": null,
      "metadata": {
        "colab": {
          "base_uri": "https://localhost:8080/"
        },
        "id": "z8RfDpkCpIxt",
        "outputId": "de3cfb5a-8ff5-4bcc-fe4f-60a0d926be9f"
      },
      "outputs": [
        {
          "name": "stdout",
          "output_type": "stream",
          "text": [
            "Drive already mounted at /content/gdrive/; to attempt to forcibly remount, call drive.mount(\"/content/gdrive/\", force_remount=True).\n",
            "archive.zip  cs464_hw3.ipynb  dataset\n",
            "/content\n"
          ]
        }
      ],
      "source": [
        "# mount drive\n",
        "drive.mount(\"/content/gdrive/\")\n",
        "!ls '/content/gdrive/MyDrive/bilkent/cs464/hw3/'\n",
        "dataset_dir = '/content/gdrive/MyDrive/bilkent/cs464/hw3/dataset/'\n",
        "!pwd\n",
        "\n",
        "# note: please change the paths in the code if needed\n",
        "\n",
        "# define functions\n",
        "def get_accuracy(model, dl):\n",
        "    t, f = 0, 0\n",
        "\n",
        "    for batch in dl:\n",
        "        images = batch[0].to(device)\n",
        "        labels = batch[1].type(torch.LongTensor).to(device)\n",
        "        y = model.forward(images)\n",
        "        _, preds = torch.max(y.data, 1)\n",
        "        t += (preds == labels).sum().item()\n",
        "        f += (preds != labels).sum().item()\n",
        "\n",
        "    return t / (t + f)"
      ]
    },
    {
      "cell_type": "markdown",
      "metadata": {
        "id": "Bbgnyp5J4fMb"
      },
      "source": [
        "## Load Data [6 points]\n",
        "In this assignment, you will use a custom dataset, which you need a wrapper class to access its data. For this purpose, implement a custom dataset class to organize data with the specifications you need. This class will load batches of data using a PyTorch DataLoader later. The class signature of CustomDataset class is provided to you in the cell below, where you can implement your custom dataset.\n",
        "\n",
        "**IMPORTANT:** As you may have difficulties while fitting all images to your RAM, you need to read the images while getting that item (each item is an image here). We encourage you to read the data files in the \"__getitem__\" function to avoid encountering any issues related to fitting the data to memory. This way, you do not need to hold the dataset in a single variable, which would be memory intensive."
      ]
    },
    {
      "cell_type": "code",
      "execution_count": null,
      "metadata": {
        "id": "iEgUvtFR8uY_"
      },
      "outputs": [],
      "source": [
        "class CustomDataset(Dataset):\n",
        "    def __init__(self, data, labels):\n",
        "        self.paths = data\n",
        "        self.labels = labels\n",
        "\n",
        "    '''This function should return sample count in the dataset'''\n",
        "    def __len__(self):\n",
        "        return len(self.paths)\n",
        "\n",
        "    '''This function should return a single sample and its ground truth value from the dataset corresponding to index parameter '''\n",
        "    def __getitem__(self, index):\n",
        "        img = Image.open(self.paths[index]).convert('RGB').resize((224,224))\n",
        "        tensor = transforms.ToTensor()(np.array(img))\n",
        "        label = self.labels[index]\n",
        "        return tensor, label"
      ]
    },
    {
      "cell_type": "markdown",
      "metadata": {
        "id": "H5aZOFJwEc_-"
      },
      "source": [
        "You can implement an additional function to read and construct custom dataset objects for training, validation, and test sets. While constructing the dataset, consider the following issues:\n",
        "- Dataset contains images that end with prefixes *.jpg* and *.jpeg*.\n",
        "- If you use PIL to read images, you should convert them to \"RGB\" format to operate on three color channels.\n",
        "- Resize the dataset images to 224x224. You are going to design models that take images with tensor shape 224x224x3.\n",
        "- If you wish, you can change the ordering of the color channels with np.moveaxis function\n",
        "\n",
        "Lastly, the train-validation-test split for the dataset provided to you is 70-10-20 in terms of percentages. While constructing the dataset, remember that shuffling is a necessary step (to get randomly distributed classes across batches).\n",
        "\n",
        "You can design your dataset getter method compatible with the line provided below, where train_dataset, val_dataset, and test_dataset are all instances of CustomDataset."
      ]
    },
    {
      "cell_type": "code",
      "execution_count": null,
      "metadata": {
        "id": "5icOihzMzqfe"
      },
      "outputs": [],
      "source": [
        "dataset, dirs = [], ['Cloudy', 'Rain', 'Shine', 'Sunrise']\n",
        "\n",
        "for label, dir in enumerate(dirs):\n",
        "    images = glob(dataset_dir + '/' + dir + '/*.jpg')\n",
        "    for img in images:\n",
        "        dataset.append([img, label])\n",
        "\n",
        "dataset = np.array(dataset)\n",
        "train, test_val = train_test_split(dataset, test_size=0.3, train_size=0.7, shuffle=True, random_state=42)\n",
        "test, val = train_test_split(test_val, test_size=1/3, shuffle=True, random_state=42)\n",
        "train_ds = CustomDataset(train[:,0], train[:,1].astype(np.int32))\n",
        "test_ds = CustomDataset(test[:,0], test[:,1].astype(np.int32))\n",
        "val_ds = CustomDataset(val[:,0], val[:,1].astype(np.int32))"
      ]
    },
    {
      "cell_type": "markdown",
      "metadata": {
        "id": "ltjHllVn4juX"
      },
      "source": [
        "## Models [16 points]\n",
        "In this assignment, you will implement one CNN (Convolutional Neural Network) model and one FCN (Fully-Connected Network) model, where the class signatures are provided below."
      ]
    },
    {
      "cell_type": "markdown",
      "metadata": {
        "id": "VY-2PQauFJWn"
      },
      "source": [
        "### Convolutional Neural Network (CNN) Model [8 points]\n",
        "As the first model, you will implement a convolutional model. Your model will include 3 CONV + POOL blocks, which denotes one Convolutional layer followed by a Max Pooling Layer. The channel sizes for convolutional blocks are [16, 32, 64], respectively. For all convolutional layers, take kernel size as 3, stride as one, and apply padding such that convolutions do not change the shape on width and height dimensions. \n",
        "<br><br>\n",
        "Following the convolutional part, you will perform image classification for the dataset provided to you. You can use ReLU activation as the non-linearity in your model (except the classification layer)."
      ]
    },
    {
      "cell_type": "code",
      "execution_count": null,
      "metadata": {
        "id": "C1yM9RoqAYh8"
      },
      "outputs": [],
      "source": [
        "class ConvNet(nn.Module):\n",
        "    '''Define your convolutional neural network'''\n",
        "    def __init__(self):\n",
        "        super(ConvNet, self).__init__()\n",
        "        self.conv1 = nn.Conv2d(in_channels=3, out_channels=16, kernel_size=3, stride=1, padding=1)\n",
        "        self.relu1 = nn.ReLU()\n",
        "        self.pool1 = nn.MaxPool2d(kernel_size=2, stride=2)\n",
        "        \n",
        "        self.conv2 = nn.Conv2d(in_channels=16, out_channels=32, kernel_size=3, stride=1, padding=1)\n",
        "        self.relu2 = nn.ReLU()\n",
        "        self.pool2 = nn.MaxPool2d(kernel_size=2, stride=2)\n",
        "\n",
        "        self.conv3 = nn.Conv2d(in_channels=32, out_channels=64, kernel_size=3, stride=1, padding=1)\n",
        "        self.relu3 = nn.ReLU()\n",
        "        self.pool3 = nn.MaxPool2d(kernel_size=2, stride=2)\n",
        "        \n",
        "        self.fc = nn.Linear(in_features=64*28*28, out_features=4)\n",
        "\n",
        "    def forward(self, x):\n",
        "        x = self.conv1(x)\n",
        "        x = self.relu1(x)\n",
        "        x = self.pool1(x)\n",
        "\n",
        "        x = self.conv2(x)\n",
        "        x = self.relu2(x)\n",
        "        x = self.pool2(x)\n",
        "\n",
        "        x = self.conv3(x)\n",
        "        x = self.relu3(x)\n",
        "        x = self.pool3(x)\n",
        "\n",
        "        x = x.view(-1, 64*28*28)\n",
        "        x = self.fc(x)\n",
        "\n",
        "        return x"
      ]
    },
    {
      "cell_type": "markdown",
      "metadata": {
        "id": "b7plNvDmGmMO"
      },
      "source": [
        "### Fully Connected Network (FCN) Model [8 points]\n",
        "The second model you will try is a Fully Connected Network composed of Linear layers and non-linear activation functions connected to each other. For this part, the number of features for your linear layers is [1024, 512, 256]. Again, you can use ReLU as your non-linear activation function in your model (except the classification layer)."
      ]
    },
    {
      "cell_type": "code",
      "execution_count": null,
      "metadata": {
        "id": "spwuuCJcb5H_"
      },
      "outputs": [],
      "source": [
        "class FCNet(nn.Module):\n",
        "    '''Define your full connected network'''\n",
        "    def __init__(self, **kwargs):\n",
        "        super(FCNet, self).__init__()\n",
        "\n",
        "        self.fc1 = nn.Linear(3*224*224, 1024)\n",
        "        self.relu1 = nn.ReLU()\n",
        "\n",
        "        self.fc2 = nn.Linear(1024, 512)\n",
        "        self.relu2 = nn.ReLU()\n",
        "\n",
        "        self.fc3 = nn.Linear(512, 256)\n",
        "        self.relu3 = nn.ReLU()\n",
        "\n",
        "        self.fc4 = nn.Linear(256, 4)\n",
        "     \n",
        "    def forward(self, x):\n",
        "        x = x.view(-1, 3*224*224)\n",
        "        x = self.fc1(x)\n",
        "        x = self.relu1(x)\n",
        "\n",
        "        x = self.fc2(x)\n",
        "        x = self.relu2(x)\n",
        "\n",
        "        x = self.fc3(x)\n",
        "        x = self.relu3(x)\n",
        "      \n",
        "        x = self.fc4(x)\n",
        "        \n",
        "        return x"
      ]
    },
    {
      "cell_type": "markdown",
      "metadata": {
        "id": "TAQDCw1AgAJV"
      },
      "source": [
        "## Training and Evaluation of FCN [22 points]\n",
        "\n",
        "Now that you implemented the model definition of CNN and FCN, you will train these models with the hyperparameters you chose. The hyperparameters that you may change are listed in the cell below. Using the FCN model defined, train a classifier that predicts weather condition classes specified by the dataset. For the optimizer, use [SGD](https://pytorch.org/docs/stable/generated/torch.optim.SGD.html) optimizer provided by PyTorch. You should try out different hyper-parameters like learning rates, epochs, momentum, and weight decay. For [momentum](https://machinelearningmastery.com/gradient-descent-with-momentum-from-scratch/) and [weight decay](https://paperswithcode.com/method/weight-decay), you can read about these concepts if you are interested.\n",
        "\n",
        "While training your model, save your best model over different epochs. You must select an appropriate metric to define the best model at a time step. You can implement the training procedure in the cell below. If you want to explain the reasoning behind your metric selection, you can add a markdown cell and provide your comments."
      ]
    },
    {
      "cell_type": "markdown",
      "metadata": {
        "id": "QMin6YgCgAJa"
      },
      "source": [
        "### Training [12 points]"
      ]
    },
    {
      "cell_type": "code",
      "execution_count": null,
      "metadata": {
        "colab": {
          "base_uri": "https://localhost:8080/"
        },
        "id": "bmV69xm_gAJa",
        "outputId": "79a63e17-37f2-47a6-ecd9-82518ae911c3"
      },
      "outputs": [
        {
          "name": "stdout",
          "output_type": "stream",
          "text": [
            "Epoch 1, Loss: 1.3379548788070679, Training accuracy: 0.49872773536895676, Validation accuracy: 0.4778761061946903\n",
            "Epoch 2, Loss: 1.2750192880630493, Training accuracy: 0.5814249363867684, Validation accuracy: 0.5398230088495575\n",
            "Epoch 3, Loss: 1.241105556488037, Training accuracy: 0.6005089058524173, Validation accuracy: 0.5575221238938053\n",
            "Epoch 4, Loss: 1.1822620630264282, Training accuracy: 0.6132315521628499, Validation accuracy: 0.5752212389380531\n",
            "Epoch 5, Loss: 1.079105019569397, Training accuracy: 0.6615776081424937, Validation accuracy: 0.6371681415929203\n",
            "Epoch 6, Loss: 1.0627962350845337, Training accuracy: 0.6590330788804071, Validation accuracy: 0.584070796460177\n",
            "Epoch 7, Loss: 1.0145015716552734, Training accuracy: 0.6730279898218829, Validation accuracy: 0.6371681415929203\n",
            "Epoch 8, Loss: 0.9858434796333313, Training accuracy: 0.6717557251908397, Validation accuracy: 0.6283185840707964\n",
            "Epoch 9, Loss: 0.9685565233230591, Training accuracy: 0.683206106870229, Validation accuracy: 0.6017699115044248\n",
            "Epoch 10, Loss: 0.8479194641113281, Training accuracy: 0.7213740458015268, Validation accuracy: 0.6902654867256637\n",
            "Epoch 11, Loss: 0.94037264585495, Training accuracy: 0.7010178117048346, Validation accuracy: 0.6106194690265486\n",
            "Epoch 12, Loss: 0.8195021748542786, Training accuracy: 0.7290076335877863, Validation accuracy: 0.6902654867256637\n",
            "Epoch 13, Loss: 0.7837852239608765, Training accuracy: 0.7633587786259542, Validation accuracy: 0.7433628318584071\n",
            "Epoch 14, Loss: 0.8887056708335876, Training accuracy: 0.7506361323155216, Validation accuracy: 0.7256637168141593\n",
            "Epoch 15, Loss: 0.7041247487068176, Training accuracy: 0.7709923664122137, Validation accuracy: 0.7522123893805309\n",
            "Epoch 16, Loss: 0.9034237861633301, Training accuracy: 0.7709923664122137, Validation accuracy: 0.7522123893805309\n",
            "Epoch 17, Loss: 0.7698372602462769, Training accuracy: 0.7798982188295165, Validation accuracy: 0.7787610619469026\n",
            "Epoch 18, Loss: 0.7647005319595337, Training accuracy: 0.7849872773536896, Validation accuracy: 0.7787610619469026\n",
            "Epoch 19, Loss: 0.7738833427429199, Training accuracy: 0.7798982188295165, Validation accuracy: 0.7699115044247787\n",
            "Epoch 20, Loss: 0.6937044858932495, Training accuracy: 0.7811704834605598, Validation accuracy: 0.7610619469026548\n",
            "Epoch 21, Loss: 0.6217740178108215, Training accuracy: 0.7926208651399491, Validation accuracy: 0.7345132743362832\n",
            "Epoch 22, Loss: 0.718629002571106, Training accuracy: 0.7888040712468194, Validation accuracy: 0.7699115044247787\n",
            "Epoch 23, Loss: 0.6587504744529724, Training accuracy: 0.7798982188295165, Validation accuracy: 0.7699115044247787\n",
            "Epoch 24, Loss: 0.707841694355011, Training accuracy: 0.7989821882951654, Validation accuracy: 0.7699115044247787\n",
            "Epoch 25, Loss: 0.7849365472793579, Training accuracy: 0.7989821882951654, Validation accuracy: 0.7699115044247787\n",
            "Epoch 26, Loss: 0.6316397786140442, Training accuracy: 0.8015267175572519, Validation accuracy: 0.7699115044247787\n",
            "Epoch 27, Loss: 0.7283485531806946, Training accuracy: 0.7977099236641222, Validation accuracy: 0.7787610619469026\n",
            "Epoch 28, Loss: 0.6490073204040527, Training accuracy: 0.8002544529262087, Validation accuracy: 0.7610619469026548\n",
            "Epoch 29, Loss: 0.6751301288604736, Training accuracy: 0.8193384223918575, Validation accuracy: 0.7876106194690266\n",
            "Epoch 30, Loss: 0.6499691605567932, Training accuracy: 0.811704834605598, Validation accuracy: 0.8053097345132744\n"
          ]
        }
      ],
      "source": [
        "#HINT: note that your training time should not take many days.\n",
        "\n",
        "#TODO:\n",
        "#Pick your hyper parameters\n",
        "max_epoch = 30\n",
        "train_batch = 64\n",
        "test_batch = 64\n",
        "learning_rate = 0.001\n",
        "momentum = 0.5\n",
        "weight_decay = 5e-04\n",
        "\n",
        "train_loader = DataLoader(train_ds, batch_size=train_batch, shuffle=True)\n",
        "val_loader = DataLoader(val_ds, batch_size=test_batch, shuffle=True)\n",
        "fcn = FCNet().to(device)\n",
        "criterion = nn.CrossEntropyLoss()\n",
        "optimizer = torch.optim.SGD(\n",
        "    fcn.parameters(), \n",
        "    lr=learning_rate, \n",
        "    weight_decay=weight_decay, \n",
        "    momentum=momentum\n",
        ")\n",
        "\n",
        "# TODO: training loop + eval\n",
        "losses_train, losses_val, accs_train, accs_val = [], [], [], []\n",
        "\n",
        "for epoch in range(max_epoch):\n",
        "    fcn.train()\n",
        "    batch_loss_sum = 0.0\n",
        "\n",
        "    for batch in train_loader:\n",
        "        images = batch[0].to(device)\n",
        "        labels = batch[1].type(torch.LongTensor).to(device)\n",
        "\n",
        "        y = fcn.forward(images)\n",
        "        loss = criterion(y, labels)\n",
        "\n",
        "        optimizer.zero_grad()\n",
        "        loss.backward()\n",
        "        optimizer.step()\n",
        "        batch_loss_sum += loss.item()\n",
        "\n",
        "    losses_train.append(batch_loss_sum / len(train_loader))\n",
        "\n",
        "    # evaluate\n",
        "    fcn.eval()\n",
        "    batch_loss_sum = 0.0\n",
        "\n",
        "    with torch.no_grad():\n",
        "        for batch in val_loader:\n",
        "            images = batch[0].to(device)\n",
        "            labels = batch[1].type(torch.LongTensor).to(device)\n",
        "\n",
        "            y = fcn(images)\n",
        "            loss = criterion(y, labels)\n",
        "            batch_loss_sum += loss.item()\n",
        "            \n",
        "    losses_val.append(batch_loss_sum / len(val_loader))\n",
        "    acc_train = get_accuracy(fcn, train_loader)\n",
        "    acc_val = get_accuracy(fcn, val_loader)\n",
        "    accs_train.append(acc_train)\n",
        "    accs_val.append(acc_val)\n",
        "\n",
        "    print(f\"Epoch {epoch + 1}, Loss: {loss.item()}\", end=', ')\n",
        "    print(f\"Training accuracy: {acc_train}\",  end=', ')\n",
        "    print(f\"Validation accuracy: {acc_val}\")"
      ]
    },
    {
      "cell_type": "markdown",
      "metadata": {
        "id": "AerO0TZ0gAJa"
      },
      "source": [
        "### Learning Process Analysis [5 points]\n",
        "Following the training step, you will now provide accuracy and loss plots over all epochs. For this, provide two plots:\n",
        "- In the first plot, you will provide the value of the accuracy metric over epochs. Your plot should include two curves, one for the training set and the other for the validation set.\n",
        "- For the second plot, provide the curve for loss values over epochs. Again your plot should include two curves, where one indicates loss on the training set and the second indicates loss for the validation set."
      ]
    },
    {
      "cell_type": "code",
      "execution_count": null,
      "metadata": {
        "colab": {
          "base_uri": "https://localhost:8080/",
          "height": 295
        },
        "id": "iiXtRpe9RI11",
        "outputId": "12928d7a-80e5-422a-f681-5ab5518b8236"
      },
      "outputs": [
        {
          "data": {
            "image/png": "[encoded data removed]",
            "text/plain": [
              "<Figure size 432x288 with 1 Axes>"
            ]
          },
          "metadata": {
            "needs_background": "light"
          },
          "output_type": "display_data"
        }
      ],
      "source": [
        "# TODO: Implement your plots here, you can use matplotlib library to do so.\n",
        "x = list(range(1, max_epoch+1))\n",
        "plt.plot(x, losses_train, label=\"Training\")\n",
        "plt.plot(x, losses_val, label=\"Validation\")\n",
        "plt.xlabel(\"Epoch\")\n",
        "plt.ylabel(\"Loss\")\n",
        "plt.title(\"Epoch vs. Loss\")\n",
        "plt.legend()\n",
        "plt.show()"
      ]
    },
    {
      "cell_type": "code",
      "execution_count": null,
      "metadata": {
        "colab": {
          "base_uri": "https://localhost:8080/",
          "height": 295
        },
        "id": "GSb5ZMzC3E_k",
        "outputId": "22683cc3-3508-41e0-82c8-52d0e5aea96c"
      },
      "outputs": [
        {
          "data": {
            "image/png": "[encoded data removed]",
            "text/plain": [
              "<Figure size 432x288 with 1 Axes>"
            ]
          },
          "metadata": {
            "needs_background": "light"
          },
          "output_type": "display_data"
        }
      ],
      "source": [
        "plt.plot(x, accs_train, label=\"Training\")\n",
        "plt.plot(x, accs_val, label=\"Validation\")\n",
        "plt.xlabel(\"Epoch\")\n",
        "plt.ylabel(\"Accuracy\")\n",
        "plt.title(\"Epoch vs. Accuracy\")\n",
        "plt.legend()\n",
        "plt.show()"
      ]
    },
    {
      "cell_type": "markdown",
      "metadata": {
        "id": "y0ZcDuLQQysp"
      },
      "source": [
        "### Test [5 points]\n",
        "As the final step of your analysis, you will test your model using some metrics. For the best model you obtained during training, evaluate your model on the test set. Then, report the confusion matrix. Finally, report accuracy, precision, recall, and $F_1$ score using your model. Report all these metrics using the macro form (macro precision, macro recall, etc.). You can implement these metrics in the cell below. "
      ]
    },
    {
      "cell_type": "code",
      "execution_count": null,
      "metadata": {
        "colab": {
          "base_uri": "https://localhost:8080/",
          "height": 434
        },
        "id": "ptAiYhAIR6O5",
        "outputId": "d182cf77-882c-4bfc-af0f-2366dada800e"
      },
      "outputs": [
        {
          "name": "stdout",
          "output_type": "stream",
          "text": [
            "Test Metrics (FCN)\n",
            "Accuracy: 0.7946428571428571\n",
            "Precision: 0.785828942746751\n",
            "Recall: 0.7792964999563585\n",
            "F1 score: 0.7777642899735924\n"
          ]
        },
        {
          "data": {
            "text/plain": [
              "[Text(33.0, 0.5, 'True label'),\n",
              " Text(0.5, 15.0, 'Predicted label'),\n",
              " Text(0.5, 1.0, 'Confusion Matrix (FCN)')]"
            ]
          },
          "execution_count": 46,
          "metadata": {},
          "output_type": "execute_result"
        },
        {
          "data": {
            "image/png": "[encoded data removed]",
            "text/plain": [
              "<Figure size 432x288 with 2 Axes>"
            ]
          },
          "metadata": {
            "needs_background": "light"
          },
          "output_type": "display_data"
        }
      ],
      "source": [
        "# TODO: Implement your evaluation script here, provide the confusion matrix and the requested metrics\n",
        "test_loader = DataLoader(test_ds, batch_size=test_batch, shuffle=True)\n",
        "labels, preds = [], []\n",
        "\n",
        "with torch.no_grad():\n",
        "    for batch in test_loader:\n",
        "        images = batch[0].to(device)\n",
        "        #labels = batch[1].type(torch.LongTensor).to(device)\n",
        "        y = fcn.forward(images)\n",
        "        \n",
        "        for label in batch[1]:\n",
        "            labels.append(label.cpu())\n",
        "\n",
        "        for out in y:\n",
        "            pred = torch.argmax(out)\n",
        "            preds.append(pred.cpu())\n",
        "\n",
        "print(\"Test Metrics (FCN)\")\n",
        "print(f\"Accuracy: {accuracy_score(labels, preds)}\")\n",
        "print(f\"Precision: {precision_score(labels, preds, average='macro')}\")\n",
        "print(f\"Recall: {recall_score(labels, preds, average='macro')}\")\n",
        "print(f\"F1 score: {f1_score(labels, preds, average='macro')}\")\n",
        "\n",
        "labels_np, preds_np = np.array(labels), np.array(preds)\n",
        "cm = confusion_matrix(labels_np, preds_np)\n",
        "sns.heatmap(cm, annot=True).set(xlabel='Predicted label', ylabel='True label', title='Confusion Matrix (FCN)')"
      ]
    },
    {
      "cell_type": "markdown",
      "metadata": {
        "id": "fVgI--N4B7lR"
      },
      "source": [
        "## Training and evaluation of CNN [22 points]\n",
        "Similar to the FCN model, you will now train the CNN model that you defined before. Again you are free to try out different hyperparameters. This model also will classify weather images with the four classes provided by the dataset. As the optimizer, again, use the SGD implementation provided by PyTorch. You can implement the training loop in the following cell. \n",
        "\n",
        "Similar to the training procedure, you need to save the best model you obtain during training. Select an appropriate criterion (metric) to save the best model. If you wish, you can add a markdown cell to explain your reasoning."
      ]
    },
    {
      "cell_type": "markdown",
      "metadata": {
        "id": "mw1OF9Fl42Bc"
      },
      "source": [
        "### Training [12 points]"
      ]
    },
    {
      "cell_type": "code",
      "execution_count": null,
      "metadata": {
        "colab": {
          "base_uri": "https://localhost:8080/"
        },
        "id": "gsEdzn4ON9fx",
        "outputId": "187595f1-e4e4-4390-8a7b-8e5f6bf9efd5"
      },
      "outputs": [
        {
          "name": "stdout",
          "output_type": "stream",
          "text": [
            "Epoch 1, Loss: 1.3567333221435547, Training accuracy: 0.3282442748091603, Validation accuracy: 0.2831858407079646\n",
            "Epoch 2, Loss: 1.341555118560791, Training accuracy: 0.3282442748091603, Validation accuracy: 0.2831858407079646\n",
            "Epoch 3, Loss: 1.2859045267105103, Training accuracy: 0.3511450381679389, Validation accuracy: 0.3185840707964602\n",
            "Epoch 4, Loss: 1.2962963581085205, Training accuracy: 0.3905852417302799, Validation accuracy: 0.34513274336283184\n",
            "Epoch 5, Loss: 1.2262333631515503, Training accuracy: 0.5229007633587787, Validation accuracy: 0.4424778761061947\n",
            "Epoch 6, Loss: 1.2278794050216675, Training accuracy: 0.6475826972010178, Validation accuracy: 0.5663716814159292\n",
            "Epoch 7, Loss: 1.0913760662078857, Training accuracy: 0.688295165394402, Validation accuracy: 0.6460176991150443\n",
            "Epoch 8, Loss: 1.0072910785675049, Training accuracy: 0.6895674300254453, Validation accuracy: 0.6637168141592921\n",
            "Epoch 9, Loss: 1.010101079940796, Training accuracy: 0.6857506361323156, Validation accuracy: 0.6814159292035398\n",
            "Epoch 10, Loss: 1.0585646629333496, Training accuracy: 0.6908396946564885, Validation accuracy: 0.6902654867256637\n",
            "Epoch 11, Loss: 0.9697880744934082, Training accuracy: 0.7022900763358778, Validation accuracy: 0.6991150442477876\n",
            "Epoch 12, Loss: 0.8266878724098206, Training accuracy: 0.7137404580152672, Validation accuracy: 0.7079646017699115\n",
            "Epoch 13, Loss: 0.9290070533752441, Training accuracy: 0.7201017811704835, Validation accuracy: 0.6902654867256637\n",
            "Epoch 14, Loss: 0.7859894633293152, Training accuracy: 0.7366412213740458, Validation accuracy: 0.7345132743362832\n",
            "Epoch 15, Loss: 0.852239727973938, Training accuracy: 0.7379134860050891, Validation accuracy: 0.6991150442477876\n",
            "Epoch 16, Loss: 0.7733574509620667, Training accuracy: 0.772264631043257, Validation accuracy: 0.7433628318584071\n",
            "Epoch 17, Loss: 0.6947797536849976, Training accuracy: 0.7709923664122137, Validation accuracy: 0.7699115044247787\n",
            "Epoch 18, Loss: 0.8389649391174316, Training accuracy: 0.8027989821882952, Validation accuracy: 0.7787610619469026\n",
            "Epoch 19, Loss: 0.7223531007766724, Training accuracy: 0.8002544529262087, Validation accuracy: 0.7876106194690266\n",
            "Epoch 20, Loss: 0.5817528963088989, Training accuracy: 0.8142493638676844, Validation accuracy: 0.8053097345132744\n",
            "Epoch 21, Loss: 0.6187148690223694, Training accuracy: 0.7824427480916031, Validation accuracy: 0.7433628318584071\n",
            "Epoch 22, Loss: 0.6195006966590881, Training accuracy: 0.7849872773536896, Validation accuracy: 0.7699115044247787\n",
            "Epoch 23, Loss: 0.5768269896507263, Training accuracy: 0.821882951653944, Validation accuracy: 0.7964601769911505\n",
            "Epoch 24, Loss: 0.5604862570762634, Training accuracy: 0.7900763358778626, Validation accuracy: 0.7522123893805309\n",
            "Epoch 25, Loss: 0.5502269864082336, Training accuracy: 0.8231552162849872, Validation accuracy: 0.8230088495575221\n",
            "Epoch 26, Loss: 0.6521004438400269, Training accuracy: 0.8295165394402035, Validation accuracy: 0.8053097345132744\n",
            "Epoch 27, Loss: 0.5789676904678345, Training accuracy: 0.8053435114503816, Validation accuracy: 0.7610619469026548\n",
            "Epoch 28, Loss: 0.6314772963523865, Training accuracy: 0.8269720101781171, Validation accuracy: 0.7876106194690266\n",
            "Epoch 29, Loss: 0.4806930720806122, Training accuracy: 0.8142493638676844, Validation accuracy: 0.7787610619469026\n",
            "Epoch 30, Loss: 0.6455504894256592, Training accuracy: 0.8206106870229007, Validation accuracy: 0.8053097345132744\n"
          ]
        }
      ],
      "source": [
        "#HINT: note that your training time should not take many days.\n",
        "\n",
        "#TODO:\n",
        "#Pick your hyper parameters\n",
        "max_epoch = 30\n",
        "train_batch = 64\n",
        "test_batch = 64\n",
        "learning_rate = 0.001\n",
        "momentum = 0.5\n",
        "weight_decay = 5e-04\n",
        "\n",
        "train_loader = DataLoader(train_ds, batch_size=train_batch, shuffle=True)\n",
        "val_loader = DataLoader(val_ds, batch_size=test_batch, shuffle=True)\n",
        "cnn = ConvNet().to(device)\n",
        "criterion = nn.CrossEntropyLoss()\n",
        "optimizer = torch.optim.SGD(\n",
        "    cnn.parameters(), \n",
        "    lr=learning_rate, \n",
        "    weight_decay=weight_decay, \n",
        "    momentum=momentum\n",
        ")\n",
        "\n",
        "# TODO: training loop + eval\n",
        "losses_train, losses_val, accs_train, accs_val = [], [], [], []\n",
        "\n",
        "for epoch in range(max_epoch):\n",
        "    cnn.train()\n",
        "    batch_loss_sum = 0.0\n",
        "\n",
        "    for batch in train_loader:\n",
        "        images = batch[0].to(device)\n",
        "        labels = batch[1].type(torch.LongTensor).to(device)\n",
        "\n",
        "        y = cnn.forward(images)\n",
        "        loss = criterion(y, labels)\n",
        "\n",
        "        optimizer.zero_grad()\n",
        "        loss.backward()\n",
        "        optimizer.step()\n",
        "        batch_loss_sum += loss.item()\n",
        "\n",
        "    losses_train.append(batch_loss_sum / len(train_loader))\n",
        "\n",
        "    # evaluate\n",
        "    cnn.eval()\n",
        "    batch_loss_sum = 0.0\n",
        "\n",
        "    with torch.no_grad():\n",
        "        for batch in val_loader:\n",
        "            images = batch[0].to(device)\n",
        "            labels = batch[1].type(torch.LongTensor).to(device)\n",
        "\n",
        "            y = cnn.forward(images)\n",
        "            loss = criterion(y, labels)\n",
        "            batch_loss_sum += loss.item()\n",
        "            \n",
        "    losses_val.append(batch_loss_sum / len(val_loader))\n",
        "    acc_train = get_accuracy(cnn, train_loader)\n",
        "    acc_val = get_accuracy(cnn, val_loader)\n",
        "    accs_train.append(acc_train)\n",
        "    accs_val.append(acc_val)\n",
        "\n",
        "    print(f\"Epoch {epoch + 1}, Loss: {loss.item()}\", end=', ')\n",
        "    print(f\"Training accuracy: {acc_train}\",  end=', ')\n",
        "    print(f\"Validation accuracy: {acc_val}\")"
      ]
    },
    {
      "cell_type": "markdown",
      "metadata": {
        "id": "vOiPy1hI44gy"
      },
      "source": [
        "### Learning Process Analysis [3 points]\n",
        "Repeating the same procedure you applied for the FCN model; you will provide two plots about how your training proceeds over epochs. Again, provide two plots: one summarizes the loss values, and the other summarizes the accuracy values. Note that each plot needs to include two curves, one for the validation set and the other for the training set."
      ]
    },
    {
      "cell_type": "code",
      "execution_count": null,
      "metadata": {
        "colab": {
          "base_uri": "https://localhost:8080/",
          "height": 295
        },
        "id": "lFwAi_zPelX6",
        "outputId": "05fdbfd2-4e63-4270-decf-ddf7dd156bed"
      },
      "outputs": [
        {
          "data": {
            "image/png": "[encoded data removed]",
            "text/plain": [
              "<Figure size 432x288 with 1 Axes>"
            ]
          },
          "metadata": {
            "needs_background": "light"
          },
          "output_type": "display_data"
        }
      ],
      "source": [
        "# TODO: Implement your plots here, you can use matplotlib library to do so.\n",
        "plt.plot(x, losses_train, label=\"Training\")\n",
        "plt.plot(x, losses_val, label=\"Validation\")\n",
        "plt.xlabel(\"Epoch\")\n",
        "plt.ylabel(\"Loss\")\n",
        "plt.title(\"Epoch vs. Loss\")\n",
        "plt.legend()\n",
        "plt.show()"
      ]
    },
    {
      "cell_type": "code",
      "execution_count": null,
      "metadata": {
        "colab": {
          "base_uri": "https://localhost:8080/",
          "height": 295
        },
        "id": "IhgC9osXXUlQ",
        "outputId": "cf8e9e49-ccc0-402a-c157-55abdb2189b6"
      },
      "outputs": [
        {
          "data": {
            "image/png": "[encoded data removed]",
            "text/plain": [
              "<Figure size 432x288 with 1 Axes>"
            ]
          },
          "metadata": {
            "needs_background": "light"
          },
          "output_type": "display_data"
        }
      ],
      "source": [
        "plt.plot(x, accs_train, label=\"Training\")\n",
        "plt.plot(x, accs_val, label=\"Validation\")\n",
        "plt.xlabel(\"Epoch\")\n",
        "plt.ylabel(\"Accuracy\")\n",
        "plt.title(\"Epoch vs. Accuracy\")\n",
        "plt.legend()\n",
        "plt.show()"
      ]
    },
    {
      "cell_type": "markdown",
      "metadata": {
        "id": "2Ccx_9g54-GS"
      },
      "source": [
        "### Test [4 points]\n",
        "Concluding your analysis, report the confusion matrix for the best model you obtained during your CNN model training. Then using this confusion matrix, report accuracy, recall, precision, and $F_1$ score for your best model. Use macro averaging in all of your metrics."
      ]
    },
    {
      "cell_type": "code",
      "execution_count": null,
      "metadata": {
        "colab": {
          "base_uri": "https://localhost:8080/",
          "height": 434
        },
        "id": "t7USNWHYemYo",
        "outputId": "82a1c5c2-64a4-4ab2-915c-46286519a5dd"
      },
      "outputs": [
        {
          "name": "stdout",
          "output_type": "stream",
          "text": [
            "Test Metrics (CNN)\n",
            "Accuracy: 0.7901785714285714\n",
            "Precision: 0.7715307936349468\n",
            "Recall: 0.7690824188467551\n",
            "F1 score: 0.7662911767621863\n"
          ]
        },
        {
          "data": {
            "text/plain": [
              "[Text(33.0, 0.5, 'True label'),\n",
              " Text(0.5, 15.0, 'Predicted label'),\n",
              " Text(0.5, 1.0, 'Confusion Matrix (CNN)')]"
            ]
          },
          "execution_count": 47,
          "metadata": {},
          "output_type": "execute_result"
        },
        {
          "data": {
            "image/png": "[encoded data removed]",
            "text/plain": [
              "<Figure size 432x288 with 2 Axes>"
            ]
          },
          "metadata": {
            "needs_background": "light"
          },
          "output_type": "display_data"
        }
      ],
      "source": [
        "# TODO: Implement your evaluation script here, provide the confusion matrix and the requested metrics\n",
        "test_loader = DataLoader(test_ds, batch_size=test_batch, shuffle=True)\n",
        "labels, preds = [], []\n",
        "\n",
        "with torch.no_grad():\n",
        "    for batch in test_loader:\n",
        "        images = batch[0].to(device)\n",
        "        #labels = batch[1].type(torch.LongTensor).to(device)\n",
        "        y = cnn.forward(images)\n",
        "        \n",
        "        for label in batch[1]:\n",
        "            labels.append(label.cpu())\n",
        "\n",
        "        for out in y:\n",
        "            pred = torch.argmax(out)\n",
        "            preds.append(pred.cpu())\n",
        "\n",
        "print(\"Test Metrics (CNN)\")\n",
        "print(f\"Accuracy: {accuracy_score(labels, preds)}\")\n",
        "print(f\"Precision: {precision_score(labels, preds, average='macro')}\")\n",
        "print(f\"Recall: {recall_score(labels, preds, average='macro')}\")\n",
        "print(f\"F1 score: {f1_score(labels, preds, average='macro')}\")\n",
        "\n",
        "labels_np, preds_np = np.array(labels), np.array(preds)\n",
        "cm = confusion_matrix(labels_np, preds_np)\n",
        "sns.heatmap(cm, annot=True).set(xlabel='Predicted label', ylabel='True label', title='Confusion Matrix (CNN)')"
      ]
    },
    {
      "cell_type": "markdown",
      "metadata": {
        "id": "vPK3UZ9besKr"
      },
      "source": [
        "### Discussion [3 points]\n",
        "Now, try to compare the two models that you trained. How different are these two models regarding the number of parameters used?\n",
        "\n",
        "Explain your findings by connecting them with your experimental results. You can include your comments on a separate Markdown cell or below the question statement."
      ]
    },
    {
      "cell_type": "markdown",
      "metadata": {
        "id": "td90tslnW0hb"
      },
      "source": [
        "Both the FCN and CNN models performed well on the image classification task at hand. However, due to the usage of convolutions and the neurons only focusing on specific parts of the given image, the CNN model has a slightly higher accuracy and is a better option for image classification.\n",
        "\n",
        "---\n",
        "\n"
      ]
    },
    {
      "cell_type": "markdown",
      "metadata": {
        "id": "RaSufbDNrt_H"
      },
      "source": [
        "## Transfer Learning [22 points]\n",
        "\n",
        "As the last part of this assignment, you will practice transfer learning. In this methodology, we aim to use models trained on large-scale datasets for our task. As we do not have access to large datasets and computational resources all the time, we sometimes try to use already trained models (on other datasets) as a good starting point for our model, and then fine-tune the weights considering our task.  \n",
        "\n",
        "Torchvision library provides numerous models pretrained for specific tasks. [Here](https://pytorch.org/vision/stable/models.html), you can find a list of pretrained models. For this part, you will include [ResNet](https://arxiv.org/abs/1512.03385)-18 model, pretrained with ImageNet dataset. ImageNet is a large dataset where training from scratch would take a long time. You will fine-tune this pretrained module for your task. \n",
        "<br>\n",
        "**Hint:** You can add a Linear layer to adapt the model to the number of classes needed for your task. You can access the number of inputs to the ResNet-18 model as $\\texttt{model.fc.in_features}$ and then modify the fully connected layer of the model $\\texttt{model.fc}$.\n",
        "<br>\n",
        "\n",
        "Using the ResNet-18 backbone, implement this model's training loop (by adapting it to your task). You can implement the training procedure in the cell provided below. Again save your model based on a criterion indicating the best model. Explain the reasoning for your criteria. Use the SGD optimizer provided by PyTorch to optimize your model.\n",
        "\n",
        "Just like the previous parts, you can also tune your hyperparameters to optimize your model's performance. "
      ]
    },
    {
      "cell_type": "markdown",
      "metadata": {
        "id": "s1O0rHumXDob"
      },
      "source": [
        "###Training [12 points]"
      ]
    },
    {
      "cell_type": "code",
      "execution_count": null,
      "metadata": {
        "colab": {
          "base_uri": "https://localhost:8080/"
        },
        "id": "V6Fvqilcrz10",
        "outputId": "f20881cf-d20d-4e07-aff3-eae4ca70a070"
      },
      "outputs": [
        {
          "name": "stderr",
          "output_type": "stream",
          "text": [
            "/usr/local/lib/python3.8/dist-packages/torchvision/models/_utils.py:208: UserWarning: The parameter 'pretrained' is deprecated since 0.13 and may be removed in the future, please use 'weights' instead.\n",
            "  warnings.warn(\n",
            "/usr/local/lib/python3.8/dist-packages/torchvision/models/_utils.py:223: UserWarning: Arguments other than a weight enum or `None` for 'weights' are deprecated since 0.13 and may be removed in the future. The current behavior is equivalent to passing `weights=ResNet18_Weights.IMAGENET1K_V1`. You can also use `weights=ResNet18_Weights.DEFAULT` to get the most up-to-date weights.\n",
            "  warnings.warn(msg)\n"
          ]
        },
        {
          "name": "stdout",
          "output_type": "stream",
          "text": [
            "Epoch 1, Loss: 1.231652021408081, Training accuracy: 0.4872773536895674, Validation accuracy: 0.46017699115044247\n",
            "Epoch 2, Loss: 0.9680882692337036, Training accuracy: 0.7315521628498728, Validation accuracy: 0.6814159292035398\n",
            "Epoch 3, Loss: 0.7843718528747559, Training accuracy: 0.8765903307888041, Validation accuracy: 0.8407079646017699\n",
            "Epoch 4, Loss: 0.6505417227745056, Training accuracy: 0.9389312977099237, Validation accuracy: 0.8849557522123894\n",
            "Epoch 5, Loss: 0.5644223093986511, Training accuracy: 0.9529262086513995, Validation accuracy: 0.9026548672566371\n",
            "Epoch 6, Loss: 0.456595242023468, Training accuracy: 0.9669211195928753, Validation accuracy: 0.9292035398230089\n",
            "Epoch 7, Loss: 0.41422510147094727, Training accuracy: 0.9732824427480916, Validation accuracy: 0.9380530973451328\n",
            "Epoch 8, Loss: 0.4007207453250885, Training accuracy: 0.9783715012722646, Validation accuracy: 0.9292035398230089\n",
            "Epoch 9, Loss: 0.4045760929584503, Training accuracy: 0.9796437659033079, Validation accuracy: 0.9292035398230089\n",
            "Epoch 10, Loss: 0.27239277958869934, Training accuracy: 0.9809160305343512, Validation accuracy: 0.9292035398230089\n"
          ]
        }
      ],
      "source": [
        "#HINT: note that your training time should not take many days.\n",
        "\n",
        "#TODO:\n",
        "#Pick your hyper parameters\n",
        "max_epoch = 10\n",
        "train_batch = 64\n",
        "test_batch = 64\n",
        "learning_rate = 0.001\n",
        "weight_decay = 5e-04\n",
        "\n",
        "train_loader = DataLoader(train_ds, batch_size=train_batch, shuffle=True)\n",
        "val_loader = DataLoader(val_ds, batch_size=test_batch, shuffle=True)\n",
        "resnet = models.resnet18(pretrained=True)\n",
        "resnet.fc = nn.Linear(resnet.fc.in_features, 4)\n",
        "resnet = resnet.to(device)\n",
        "criterion = nn.CrossEntropyLoss()\n",
        "optimizer = torch.optim.SGD(\n",
        "    resnet.parameters(), \n",
        "    lr=learning_rate,\n",
        "    weight_decay=weight_decay,\n",
        "    momentum=momentum\n",
        ")\n",
        "\n",
        "# TODO: Implement training loop + eval using ResNet-18 model\n",
        "losses_train, losses_val, accs_train, accs_val = [], [], [], []\n",
        "\n",
        "for epoch in range(max_epoch):\n",
        "    resnet.train()\n",
        "    batch_loss_sum = 0.0\n",
        "\n",
        "    for batch in train_loader:\n",
        "        images = batch[0].to(device)\n",
        "        labels = batch[1].type(torch.LongTensor).to(device)\n",
        "\n",
        "        y = resnet.forward(images)\n",
        "        loss = criterion(y, labels)\n",
        "\n",
        "        optimizer.zero_grad()\n",
        "        loss.backward()\n",
        "        optimizer.step()\n",
        "        batch_loss_sum += loss.item()\n",
        "\n",
        "    losses_train.append(batch_loss_sum / len(train_loader))\n",
        "\n",
        "    # evaluate\n",
        "    resnet.eval()\n",
        "    batch_loss_sum = 0.0\n",
        "\n",
        "    with torch.no_grad():\n",
        "        for batch in val_loader:\n",
        "            images = batch[0].to(device)\n",
        "            labels = batch[1].type(torch.LongTensor).to(device)\n",
        "\n",
        "            y = resnet.forward(images)\n",
        "            loss = criterion(y, labels)\n",
        "            batch_loss_sum += loss.item()\n",
        "            \n",
        "    losses_val.append(batch_loss_sum / len(val_loader))\n",
        "    acc_train = get_accuracy(resnet, train_loader)\n",
        "    acc_val = get_accuracy(resnet, val_loader)\n",
        "    accs_train.append(acc_train)\n",
        "    accs_val.append(acc_val)\n",
        "\n",
        "    print(f\"Epoch {epoch + 1}, Loss: {loss.item()}\", end=', ')\n",
        "    print(f\"Training accuracy: {acc_train}\",  end=', ')\n",
        "    print(f\"Validation accuracy: {acc_val}\")"
      ]
    },
    {
      "cell_type": "markdown",
      "metadata": {
        "id": "LW2aqaDEXFds"
      },
      "source": [
        "###Learning Process Analysis [3 points]\n",
        "After training your model, provide two plots summarizing the learning procedure. Like previous parts, you will provide plots for loss value and accuracy progression over epochs. Remember that for each plot, you need to include two curves (one for the training set and one for the validation set)."
      ]
    },
    {
      "cell_type": "code",
      "execution_count": null,
      "metadata": {
        "colab": {
          "base_uri": "https://localhost:8080/",
          "height": 295
        },
        "id": "esWBPBmdlqlA",
        "outputId": "f907c6be-8db7-457e-b5ce-db5797112b17"
      },
      "outputs": [
        {
          "data": {
            "image/png": "[encoded data removed]",
            "text/plain": [
              "<Figure size 432x288 with 1 Axes>"
            ]
          },
          "metadata": {
            "needs_background": "light"
          },
          "output_type": "display_data"
        }
      ],
      "source": [
        "# TODO: Implement your plots here, you can use matplotlib library to do so.\n",
        "x = list(range(1, max_epoch+1))\n",
        "plt.plot(x, losses_train, label=\"Training\")\n",
        "plt.plot(x, losses_val, label=\"Validation\")\n",
        "plt.xlabel(\"Epoch\")\n",
        "plt.ylabel(\"Loss\")\n",
        "plt.title(\"Epoch vs. Loss\")\n",
        "plt.legend()\n",
        "plt.show()"
      ]
    },
    {
      "cell_type": "code",
      "execution_count": null,
      "metadata": {
        "colab": {
          "base_uri": "https://localhost:8080/",
          "height": 295
        },
        "id": "FN46ObmTe79n",
        "outputId": "6c128396-ba3a-4d1f-9aed-73bb0b7a94b9"
      },
      "outputs": [
        {
          "data": {
            "image/png": "[encoded data removed]",
            "text/plain": [
              "<Figure size 432x288 with 1 Axes>"
            ]
          },
          "metadata": {
            "needs_background": "light"
          },
          "output_type": "display_data"
        }
      ],
      "source": [
        "plt.plot(x, accs_train, label=\"Training\")\n",
        "plt.plot(x, accs_val, label=\"Validation\")\n",
        "plt.xlabel(\"Epoch\")\n",
        "plt.ylabel(\"Accuracy\")\n",
        "plt.title(\"Epoch vs. Accuracy\")\n",
        "plt.legend()\n",
        "plt.show()"
      ]
    },
    {
      "cell_type": "markdown",
      "metadata": {
        "id": "o4Y-Qs33XH_G"
      },
      "source": [
        "### Test [4 points]\n",
        "Following your analysis, report the confusion matrix for the best model you obtained (with the criteria you defined). Then, report the accuracy, precision, recall and $F_1$ score for the best model. In all of the metrics, use macro averaging."
      ]
    },
    {
      "cell_type": "code",
      "execution_count": null,
      "metadata": {
        "colab": {
          "base_uri": "https://localhost:8080/",
          "height": 434
        },
        "id": "bsZbLlOD5SvJ",
        "outputId": "468582c5-ca8b-4f38-8c62-f489a60034be"
      },
      "outputs": [
        {
          "name": "stdout",
          "output_type": "stream",
          "text": [
            "Test Metrics (Transfer Learning)\n",
            "Accuracy: 0.9464285714285714\n",
            "Precision: 0.9496320021807279\n",
            "Recall: 0.9440358018519841\n",
            "F1 score: 0.9462577218864354\n"
          ]
        },
        {
          "data": {
            "text/plain": [
              "[Text(33.0, 0.5, 'True label'),\n",
              " Text(0.5, 15.0, 'Predicted label'),\n",
              " Text(0.5, 1.0, 'Confusion Matrix (Transfer Learning)')]"
            ]
          },
          "execution_count": 48,
          "metadata": {},
          "output_type": "execute_result"
        },
        {
          "data": {
            "image/png": "[encoded data removed]",
            "text/plain": [
              "<Figure size 432x288 with 2 Axes>"
            ]
          },
          "metadata": {
            "needs_background": "light"
          },
          "output_type": "display_data"
        }
      ],
      "source": [
        "# TODO: Implement your evaluation script here, provide the confusion matrix and the requested metrics\n",
        "test_loader = DataLoader(test_ds, batch_size=test_batch, shuffle=True)\n",
        "labels, preds = [], []\n",
        "\n",
        "with torch.no_grad():\n",
        "    for batch in test_loader:\n",
        "        images = batch[0].to(device)\n",
        "        #labels = batch[1].type(torch.LongTensor).to(device)\n",
        "        y = resnet.forward(images)\n",
        "        \n",
        "        for label in batch[1]:\n",
        "            labels.append(label.cpu())\n",
        "\n",
        "        for out in y:\n",
        "            pred = torch.argmax(out)\n",
        "            preds.append(pred.cpu())\n",
        "\n",
        "print(\"Test Metrics (Transfer Learning)\")\n",
        "print(f\"Accuracy: {accuracy_score(labels, preds)}\")\n",
        "print(f\"Precision: {precision_score(labels, preds, average='macro')}\")\n",
        "print(f\"Recall: {recall_score(labels, preds, average='macro')}\")\n",
        "print(f\"F1 score: {f1_score(labels, preds, average='macro')}\")\n",
        "\n",
        "labels_np, preds_np = np.array(labels), np.array(preds)\n",
        "cm = confusion_matrix(labels_np, preds_np)\n",
        "sns.heatmap(cm, annot=True).set(xlabel='Predicted label', ylabel='True label', title='Confusion Matrix (Transfer Learning)')"
      ]
    },
    {
      "cell_type": "markdown",
      "metadata": {
        "id": "47uwNm3NmJDB"
      },
      "source": [
        "### Discussion [3 points]\n",
        "Now discuss the effectiveness of Transfer Learning. How does it improve performance?  "
      ]
    },
    {
      "cell_type": "markdown",
      "metadata": {
        "id": "w7G-zBaWgymc"
      },
      "source": [
        "Transfer learning drastically improves the model performance (with an accuracy increase from about 0.75 in average to about 0.93). This is because, we use an already trained model and build on it using this technology. The ResNet-18 model is trained on over 1 million images and is a much more complex model compared to the ones we used (having more learnable parameters). Therefore, even with a very small number of epochs, it is able to outperform the previous models. "
      ]
    },
    {
      "cell_type": "markdown",
      "metadata": {
        "id": "23y1QPvOVDIF"
      },
      "source": [
        "# References\n",
        "[1] Ajayi, Gbeminiyi (2018), “Multi-class Weather Dataset for Image Classification”, Mendeley Data, V1, doi: 10.17632/4drtyfjtfy.1"
      ]
    }
  ],
  "metadata": {
    "accelerator": "GPU",
    "colab": {
      "provenance": []
    },
    "gpuClass": "standard",
    "kernelspec": {
      "display_name": "Python 3 (ipykernel)",
      "language": "python",
      "name": "python3"
    },
    "language_info": {
      "codemirror_mode": {
        "name": "ipython",
        "version": 3
      },
      "file_extension": ".py",
      "mimetype": "text/x-python",
      "name": "python",
      "nbconvert_exporter": "python",
      "pygments_lexer": "ipython3",
      "version": "3.7.0"
    }
  },
  "nbformat": 4,
  "nbformat_minor": 0
}
